{
 "metadata": {
  "name": ""
 },
 "nbformat": 3,
 "nbformat_minor": 0,
 "worksheets": [
  {
   "cells": [
    {
     "cell_type": "code",
     "collapsed": false,
     "input": [
      "import zmq, cv2, numpy"
     ],
     "language": "python",
     "metadata": {},
     "outputs": []
    },
    {
     "cell_type": "code",
     "collapsed": false,
     "input": [
      "context = zmq.Context()"
     ],
     "language": "python",
     "metadata": {},
     "outputs": []
    },
    {
     "cell_type": "markdown",
     "metadata": {},
     "source": [
      "# Skeleton"
     ]
    },
    {
     "cell_type": "code",
     "collapsed": false,
     "input": [
      "socket = context.socket(zmq.SUB)"
     ],
     "language": "python",
     "metadata": {},
     "outputs": []
    },
    {
     "cell_type": "code",
     "collapsed": false,
     "input": [
      "socket.connect(\"tcp://BAXTERFLOWERS2.local:33405\")"
     ],
     "language": "python",
     "metadata": {},
     "outputs": []
    },
    {
     "cell_type": "code",
     "collapsed": false,
     "input": [
      "socket.setsockopt(zmq.SUBSCRIBE, \"recognized_speech\")"
     ],
     "language": "python",
     "metadata": {},
     "outputs": []
    },
    {
     "cell_type": "code",
     "collapsed": false,
     "input": [
      "socket.setsockopt(zmq.CONFLATE, 1)"
     ],
     "language": "python",
     "metadata": {},
     "outputs": []
    },
    {
     "cell_type": "code",
     "collapsed": false,
     "input": [
      "frame = socket.recv()"
     ],
     "language": "python",
     "metadata": {},
     "outputs": []
    },
    {
     "cell_type": "code",
     "collapsed": false,
     "input": [
      "frame"
     ],
     "language": "python",
     "metadata": {},
     "outputs": []
    },
    {
     "cell_type": "markdown",
     "metadata": {},
     "source": [
      "# RGB-D images"
     ]
    },
    {
     "cell_type": "code",
     "collapsed": false,
     "input": [
      "rgb_raw = context.socket(zmq.SUB)\n",
      "depth_raw = context.socket(zmq.SUB)"
     ],
     "language": "python",
     "metadata": {},
     "outputs": []
    },
    {
     "cell_type": "code",
     "collapsed": false,
     "input": [
      "rgb_raw.setsockopt(zmq.CONFLATE, 1)\n",
      "depth_raw.setsockopt(zmq.CONFLATE, 1)"
     ],
     "language": "python",
     "metadata": {},
     "outputs": []
    },
    {
     "cell_type": "code",
     "collapsed": false,
     "input": [
      "rgb_raw.setsockopt(zmq.SUBSCRIBE, \"\")\n",
      "depth_raw.setsockopt(zmq.SUBSCRIBE, \"\")"
     ],
     "language": "python",
     "metadata": {},
     "outputs": []
    },
    {
     "cell_type": "code",
     "collapsed": false,
     "input": [
      "rgb_raw.connect(\"tcp://BAXTERFLOWERS2.local:33407\")\n",
      "depth_raw.connect(\"tcp://BAXTERFLOWERS2.local:33408\")"
     ],
     "language": "python",
     "metadata": {},
     "outputs": []
    },
    {
     "cell_type": "code",
     "collapsed": false,
     "input": [
      "rgb_frame = rgb_raw.recv()\n",
      "depth_frame = depth_raw.recv()"
     ],
     "language": "python",
     "metadata": {},
     "outputs": []
    },
    {
     "cell_type": "code",
     "collapsed": false,
     "input": [
      "len(depth_frame) # 512x424"
     ],
     "language": "python",
     "metadata": {},
     "outputs": []
    },
    {
     "cell_type": "code",
     "collapsed": false,
     "input": [
      "len(rgb_frame) # 1920x1080"
     ],
     "language": "python",
     "metadata": {},
     "outputs": []
    },
    {
     "cell_type": "code",
     "collapsed": false,
     "input": [],
     "language": "python",
     "metadata": {},
     "outputs": []
    },
    {
     "cell_type": "code",
     "collapsed": false,
     "input": [
      "rgb_frame_numpy = numpy.fromstring(rgb_frame, numpy.uint8).reshape(1080, 1920,2)\n",
      "depth_frame_numpy = numpy.fromstring(depth_frame, numpy.uint16).reshape(424, 512)"
     ],
     "language": "python",
     "metadata": {},
     "outputs": []
    },
    {
     "cell_type": "code",
     "collapsed": false,
     "input": [
      "mapped_depth_frame_numpy = numpy.fromstring(depth_frame, numpy.uint8).reshape(1080, 1920)"
     ],
     "language": "python",
     "metadata": {},
     "outputs": []
    },
    {
     "cell_type": "code",
     "collapsed": false,
     "input": [
      "frame_rgb = cv2.cvtColor(rgb_frame_numpy, cv2.COLOR_YUV2BGR_YUY2)  # YUY2 to BGR\n",
      "frame_depth = numpy.uint8(cv2.normalize(depth_frame_numpy, None, 0, 255, cv2.NORM_MINMAX))"
     ],
     "language": "python",
     "metadata": {},
     "outputs": []
    },
    {
     "cell_type": "code",
     "collapsed": false,
     "input": [
      "frame_depth_mapped = numpy.uint8(cv2.normalize(mapped_depth_frame_numpy, None, 0, 255, cv2.NORM_MINMAX))"
     ],
     "language": "python",
     "metadata": {},
     "outputs": []
    },
    {
     "cell_type": "code",
     "collapsed": false,
     "input": [
      "#cv2.imshow(\"rgb\", frame_rgb)\n",
      "#cv2.imshow(\"depth\", frame_depth)\n",
      "cv2.imshow(\"depth\", frame_depth_mapped)\n",
      "cv2.waitKey(100)"
     ],
     "language": "python",
     "metadata": {},
     "outputs": []
    },
    {
     "cell_type": "code",
     "collapsed": false,
     "input": [
      "cv2.imwrite(\"rgb.jpg\", frame_rgb)\n",
      "cv2.imwrite(\"depth.png\", frame_depth)"
     ],
     "language": "python",
     "metadata": {},
     "outputs": []
    },
    {
     "cell_type": "markdown",
     "metadata": {},
     "source": [
      "# Microphone array"
     ]
    },
    {
     "cell_type": "code",
     "collapsed": false,
     "input": [
      "socket_sound = context.socket(zmq.SUB)"
     ],
     "language": "python",
     "metadata": {},
     "outputs": []
    },
    {
     "cell_type": "code",
     "collapsed": false,
     "input": [
      "socket_sound.setsockopt(zmq.CONFLATE, 1)"
     ],
     "language": "python",
     "metadata": {},
     "outputs": []
    },
    {
     "cell_type": "code",
     "collapsed": false,
     "input": [
      "socket_sound.setsockopt(zmq.SUBSCRIBE, \"\")"
     ],
     "language": "python",
     "metadata": {},
     "outputs": []
    },
    {
     "cell_type": "code",
     "collapsed": false,
     "input": [
      "socket_sound.connect(\"tcp://BAXTERFLOWERS.local:33409\")"
     ],
     "language": "python",
     "metadata": {},
     "outputs": []
    },
    {
     "cell_type": "markdown",
     "metadata": {},
     "source": [
      "## Record a 5sec wave file\n",
      "The frame data is a mono 32-bit IEEE floating point PCM stream sampled at 16 kHz. Typical PCM values will be between -1 and +1. "
     ]
    },
    {
     "cell_type": "code",
     "collapsed": false,
     "input": [
      "import time, wave, pyaudio\n",
      "from struct import unpack, pack"
     ],
     "language": "python",
     "metadata": {},
     "outputs": []
    },
    {
     "cell_type": "code",
     "collapsed": false,
     "input": [
      "pyaudio = pyaudio.PyAudio()"
     ],
     "language": "python",
     "metadata": {},
     "outputs": []
    },
    {
     "cell_type": "code",
     "collapsed": false,
     "input": [
      "stream = pyaudio.open(format=pyaudio.get_format_from_width(4),\n",
      "                      channels=1,\n",
      "                      rate=16384,\n",
      "                      output=True)"
     ],
     "language": "python",
     "metadata": {},
     "outputs": []
    },
    {
     "cell_type": "code",
     "collapsed": false,
     "input": [
      "f = wave.open(\"sound.wav\", 'w')\n",
      "f.setnchannels(1)\n",
      "f.setframerate(16384)\n",
      "f.setsampwidth(4)"
     ],
     "language": "python",
     "metadata": {},
     "outputs": []
    },
    {
     "cell_type": "code",
     "collapsed": false,
     "input": [
      "t0 = time.time()\n",
      "while time.time()-t0 < 5:\n",
      "    frame = socket_sound.recv()\n",
      "    frame_floats = unpack('{}f'.format(len(frame)/4), frame)\n",
      "    frame_ints = map(lambda x: max(min(int(x*2147483647), 2147483647), -2147483648), frame_floats)\n",
      "    frame_ints = pack('{}i'.format(len(frame)/4), *frame_ints)\n",
      "    for i in frame_ints:\n",
      "        f.writeframes(i)\n",
      "    #stream.write(frame)"
     ],
     "language": "python",
     "metadata": {},
     "outputs": []
    },
    {
     "cell_type": "code",
     "collapsed": false,
     "input": [
      "f.getnframes()\n",
      "f.close()"
     ],
     "language": "python",
     "metadata": {},
     "outputs": []
    },
    {
     "cell_type": "code",
     "collapsed": false,
     "input": [],
     "language": "python",
     "metadata": {},
     "outputs": []
    }
   ],
   "metadata": {}
  }
 ]
}
{
 "metadata": {
  "name": ""
 },
 "nbformat": 3,
 "nbformat_minor": 0,
 "worksheets": [
  {
   "cells": [
    {
     "cell_type": "code",
     "collapsed": false,
     "input": [
      "from kinect2.client import Kinect2Client"
     ],
     "language": "python",
     "metadata": {},
     "outputs": []
    },
    {
     "cell_type": "code",
     "collapsed": false,
     "input": [
      "kinect = Kinect2Client(\"BAXTERFLOWERS.local\")"
     ],
     "language": "python",
     "metadata": {},
     "outputs": []
    },
    {
     "cell_type": "markdown",
     "metadata": {},
     "source": [
      "# Skeleton"
     ]
    },
    {
     "cell_type": "code",
     "collapsed": false,
     "input": [
      "def callback_skeleton(msg):\n",
      "    print msg"
     ],
     "language": "python",
     "metadata": {},
     "outputs": []
    },
    {
     "cell_type": "code",
     "collapsed": false,
     "input": [
      "kinect.skeleton.set_callback(callback_skeleton)"
     ],
     "language": "python",
     "metadata": {},
     "outputs": []
    },
    {
     "cell_type": "code",
     "collapsed": false,
     "input": [
      "kinect.skeleton.start()"
     ],
     "language": "python",
     "metadata": {},
     "outputs": []
    },
    {
     "cell_type": "code",
     "collapsed": false,
     "input": [
      "# Useless statement to execute so that you can see the skeleton message"
     ],
     "language": "python",
     "metadata": {},
     "outputs": []
    },
    {
     "cell_type": "markdown",
     "metadata": {},
     "source": [
      "# Speech"
     ]
    },
    {
     "cell_type": "code",
     "collapsed": false,
     "input": [
      "def callback_speech(msg):\n",
      "    print msg"
     ],
     "language": "python",
     "metadata": {},
     "outputs": []
    },
    {
     "cell_type": "code",
     "collapsed": false,
     "input": [
      "kinect.speech.set_callback(callback_speech)"
     ],
     "language": "python",
     "metadata": {},
     "outputs": []
    },
    {
     "cell_type": "code",
     "collapsed": false,
     "input": [
      "grammar = '''<grammar version=\"1.0\" xml:lang=\"fr-FR\" root=\"rootRule\"\n",
      "                      xmlns=\"http://www.w3.org/2001/06/grammar\">\n",
      "                <rule id=\"rootRule\">\n",
      "                    <one-of>\n",
      "                        <item> Bonjour </item>\n",
      "                        <item> Adieu </item>\n",
      "                    </one-of>\n",
      "                </rule>\n",
      "             </grammar>'''"
     ],
     "language": "python",
     "metadata": {},
     "outputs": []
    },
    {
     "cell_type": "code",
     "collapsed": false,
     "input": [
      "kinect.speech.params.set_grammar(grammar, \"bonjour_grammar\")\n",
      "kinect.speech.params.sentence_on()"
     ],
     "language": "python",
     "metadata": {},
     "outputs": []
    },
    {
     "cell_type": "code",
     "collapsed": false,
     "input": [
      "kinect.speech.start()"
     ],
     "language": "python",
     "metadata": {},
     "outputs": []
    },
    {
     "cell_type": "code",
     "collapsed": false,
     "input": [
      "# Useless statement to execute after you've spoken"
     ],
     "language": "python",
     "metadata": {},
     "outputs": []
    },
    {
     "cell_type": "markdown",
     "metadata": {},
     "source": [
      "# TTS"
     ]
    },
    {
     "cell_type": "code",
     "collapsed": false,
     "input": [
      "kinect.tts.params.set_language('french')"
     ],
     "language": "python",
     "metadata": {},
     "outputs": []
    },
    {
     "cell_type": "code",
     "collapsed": false,
     "input": [
      "kinect.tts.params.queue_off()"
     ],
     "language": "python",
     "metadata": {},
     "outputs": []
    },
    {
     "cell_type": "code",
     "collapsed": false,
     "input": [
      "kinect.tts.start()"
     ],
     "language": "python",
     "metadata": {},
     "outputs": []
    },
    {
     "cell_type": "code",
     "collapsed": false,
     "input": [
      "kinect.tts.say(\"Bonjour, c'est votre ordinateur qui vous parle\")"
     ],
     "language": "python",
     "metadata": {},
     "outputs": []
    }
   ],
   "metadata": {}
  }
 ]
}
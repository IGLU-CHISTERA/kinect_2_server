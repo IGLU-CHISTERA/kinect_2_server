{
 "metadata": {
  "name": ""
 },
 "nbformat": 3,
 "nbformat_minor": 0,
 "worksheets": [
  {
   "cells": [
    {
     "cell_type": "code",
     "collapsed": false,
     "input": [
      "from kinect2.client import Kinect2Client"
     ],
     "language": "python",
     "metadata": {},
     "outputs": []
    },
    {
     "cell_type": "code",
     "collapsed": false,
     "input": [
      "kinect = Kinect2Client(\"BAXTERFLOWERS.local\")"
     ],
     "language": "python",
     "metadata": {},
     "outputs": []
    },
    {
     "cell_type": "markdown",
     "metadata": {},
     "source": [
      "# Skeleton"
     ]
    },
    {
     "cell_type": "code",
     "collapsed": false,
     "input": [
      "def callback_skeleton(msg):\n",
      "    pass"
     ],
     "language": "python",
     "metadata": {},
     "outputs": []
    },
    {
     "cell_type": "code",
     "collapsed": false,
     "input": [
      "kinect.skeleton.set_callback(callback_skeleton)"
     ],
     "language": "python",
     "metadata": {},
     "outputs": []
    },
    {
     "cell_type": "code",
     "collapsed": false,
     "input": [
      "kinect.skeleton.start()"
     ],
     "language": "python",
     "metadata": {},
     "outputs": []
    },
    {
     "cell_type": "markdown",
     "metadata": {},
     "source": [
      "# Speech"
     ]
    },
    {
     "cell_type": "code",
     "collapsed": false,
     "input": [
      "def callback_speech(msg):\n",
      "    print msg"
     ],
     "language": "python",
     "metadata": {},
     "outputs": []
    },
    {
     "cell_type": "code",
     "collapsed": false,
     "input": [
      "kinect.speech.set_callback(callback_speech)"
     ],
     "language": "python",
     "metadata": {},
     "outputs": []
    },
    {
     "cell_type": "code",
     "collapsed": false,
     "input": [
      "grammar = '''<grammar version=\"1.0\" xml:lang=\"fr-FR\" root=\"rootRule\"\n",
      "                      xmlns=\"http://www.w3.org/2001/06/grammar\">\n",
      "                <rule id=\"rootRule\">\n",
      "                    <item> Bonjour </item>\n",
      "                </rule>\n",
      "             </grammar>'''"
     ],
     "language": "python",
     "metadata": {},
     "outputs": []
    },
    {
     "cell_type": "code",
     "collapsed": false,
     "input": [
      "kinect.speech.params.set_grammar(grammar, \"play_grammar\")\n",
      "kinect.speech.params.sentence_on()"
     ],
     "language": "python",
     "metadata": {},
     "outputs": []
    },
    {
     "cell_type": "code",
     "collapsed": false,
     "input": [
      "kinect.speech.start()"
     ],
     "language": "python",
     "metadata": {},
     "outputs": []
    }
   ],
   "metadata": {}
  }
 ]
}